{
 "cells": [
  {
   "cell_type": "code",
   "execution_count": null,
   "metadata": {
    "collapsed": false,
    "deletable": true,
    "editable": true
   },
   "outputs": [
    {
     "name": "stdout",
     "output_type": "stream",
     "text": [
      "welcome to server!\n",
      "input your nickname: messi\n",
      "你好啊\n",
      "xukeqin :你好\n",
      "哈哈\n",
      "再见\n"
     ]
    }
   ],
   "source": [
    "import socket  \n",
    "import time  \n",
    "import threading  \n",
    "  \n",
    "sock = socket.socket(socket.AF_INET, socket.SOCK_STREAM)  \n",
    "  \n",
    "sock.connect(('115.159.36.135', 6666))  \n",
    "sock.send(b'1')  \n",
    "print(sock.recv(1024).decode())  \n",
    "nickName = input('input your nickname: ')  \n",
    "sock.send(nickName.encode())  \n",
    "  \n",
    "def sendThreadFunc():  \n",
    "    while True:  \n",
    "        try:  \n",
    "            myword = input()  \n",
    "            sock.send(myword.encode())  \n",
    "            #print(sock.recv(1024).decode())  \n",
    "        except ConnectionAbortedError:  \n",
    "            print('Server closed this connection!')  \n",
    "            time.sleep(1000)\n",
    "        except ConnectionResetError:  \n",
    "            print('Server is closed!')  \n",
    "            time.sleep(1000)\n",
    "      \n",
    "def recvThreadFunc():  \n",
    "    while True:  \n",
    "        try:  \n",
    "            otherword = sock.recv(1024)  \n",
    "            if otherword:  \n",
    "                print(otherword.decode())  \n",
    "            else:  \n",
    "                pass  \n",
    "        except ConnectionAbortedError:  \n",
    "            print('Server closed this connection!')\n",
    "            time.sleep(1000)\n",
    "  \n",
    "        except ConnectionResetError:  \n",
    "            print('Server is closed!')  \n",
    "            time.sleep(1000)\n",
    "  \n",
    "  \n",
    "th1 = threading.Thread(target=sendThreadFunc)  \n",
    "th2 = threading.Thread(target=recvThreadFunc)  \n",
    "threads = [th1, th2]  \n",
    "  \n",
    "for t in threads :  \n",
    "    t.setDaemon(True)  \n",
    "    t.start()  \n",
    "t.join()  "
   ]
  },
  {
   "cell_type": "code",
   "execution_count": null,
   "metadata": {
    "collapsed": true,
    "deletable": true,
    "editable": true
   },
   "outputs": [],
   "source": []
  }
 ],
 "metadata": {
  "kernelspec": {
   "display_name": "Python 3",
   "language": "python",
   "name": "python3"
  },
  "language_info": {
   "codemirror_mode": {
    "name": "ipython",
    "version": 3
   },
   "file_extension": ".py",
   "mimetype": "text/x-python",
   "name": "python",
   "nbconvert_exporter": "python",
   "pygments_lexer": "ipython3",
   "version": "3.5.3"
  }
 },
 "nbformat": 4,
 "nbformat_minor": 2
}
