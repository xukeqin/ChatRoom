{
 "cells": [
  {
   "cell_type": "code",
   "execution_count": null,
   "metadata": {
    "collapsed": false,
    "deletable": true,
    "editable": true
   },
   "outputs": [
    {
     "name": "stdout",
     "output_type": "stream",
     "text": [
      "Server 127.0.0.1 listening ...\n",
      "Accept a new connection ('127.0.0.1', 5550) 1068\n"
     ]
    }
   ],
   "source": [
    "import socket  \n",
    "import threading  \n",
    "  \n",
    "sock = socket.socket(socket.AF_INET, socket.SOCK_STREAM)  \n",
    "  \n",
    "sock.bind(('localhost', 5550))  \n",
    "  \n",
    "sock.listen(5)  \n",
    "print('Server', socket.gethostbyname('localhost'), 'listening ...')  \n",
    "  \n",
    "mydict = dict()  \n",
    "mylist = list()  \n",
    "  \n",
    "#把whatToSay传给除了exceptNum的所有人  \n",
    "def tellOthers(exceptNum, whatToSay):  \n",
    "    for c in mylist:  \n",
    "        if c.fileno() != exceptNum :  \n",
    "            try:  \n",
    "                c.send(whatToSay.encode())  \n",
    "            except:  \n",
    "                pass  \n",
    "  \n",
    "def subThreadIn(myconnection, connNumber):  \n",
    "    nickname = myconnection.recv(1024).decode()  \n",
    "    mydict[myconnection.fileno()] = nickname  \n",
    "    mylist.append(myconnection)  \n",
    "    print('connection', connNumber, ' has nickname :', nickname)  \n",
    "    tellOthers(connNumber, '【系统提示：'+mydict[connNumber]+' 进入聊天室】')  \n",
    "    while True:  \n",
    "        try:  \n",
    "            recvedMsg = myconnection.recv(1024).decode()  \n",
    "            if recvedMsg:  \n",
    "                print(mydict[connNumber], ':', recvedMsg)  \n",
    "                tellOthers(connNumber, mydict[connNumber]+' :'+recvedMsg)  \n",
    "  \n",
    "        except (OSError, ConnectionResetError):  \n",
    "            try:  \n",
    "                mylist.remove(myconnection)  \n",
    "            except:  \n",
    "                pass  \n",
    "            print(mydict[connNumber], 'exit, ', len(mylist), ' person left')  \n",
    "            tellOthers(connNumber, '【系统提示：'+mydict[connNumber]+' 离开聊天室】')  \n",
    "            myconnection.close()  \n",
    "            return  \n",
    "  \n",
    "while True:  \n",
    "    connection, addr = sock.accept()  \n",
    "    print('Accept a new connection', connection.getsockname(), connection.fileno())  \n",
    "    try:  \n",
    "        #connection.settimeout(5)  \n",
    "        buf = connection.recv(1024).decode()  \n",
    "        if buf == '1':  \n",
    "            connection.send(b'welcome to server!')  \n",
    "  \n",
    "            #为当前连接开辟一个新的线程  \n",
    "            mythread = threading.Thread(target=subThreadIn, args=(connection, connection.fileno()))  \n",
    "            mythread.setDaemon(True)  \n",
    "            mythread.start()  \n",
    "              \n",
    "        else:  \n",
    "            connection.send(b'please go out!')  \n",
    "            connection.close()  \n",
    "    except :    \n",
    "        pass "
   ]
  },
  {
   "cell_type": "code",
   "execution_count": null,
   "metadata": {
    "collapsed": true,
    "deletable": true,
    "editable": true
   },
   "outputs": [],
   "source": []
  }
 ],
 "metadata": {
  "kernelspec": {
   "display_name": "Python 3",
   "language": "python",
   "name": "python3"
  },
  "language_info": {
   "codemirror_mode": {
    "name": "ipython",
    "version": 3
   },
   "file_extension": ".py",
   "mimetype": "text/x-python",
   "name": "python",
   "nbconvert_exporter": "python",
   "pygments_lexer": "ipython3",
   "version": "3.5.3"
  }
 },
 "nbformat": 4,
 "nbformat_minor": 2
}
